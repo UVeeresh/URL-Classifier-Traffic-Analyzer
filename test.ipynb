{
 "cells": [
  {
   "cell_type": "code",
   "execution_count": 15,
   "id": "998cc633",
   "metadata": {},
   "outputs": [],
   "source": [
    "import csv\n",
    "import socket\n",
    "import pandas as pd"
   ]
  },
  {
   "cell_type": "code",
   "execution_count": 18,
   "id": "a596cf1b",
   "metadata": {},
   "outputs": [
    {
     "name": "stdout",
     "output_type": "stream",
     "text": [
      "No. of categories: 12\n",
      "Categories are : {'Business', 'Science', 'Games', 'Recreation', 'Health', 'Computers', 'Arts', 'Home', 'Reference', 'News', 'Adult', 'Kids'}\n",
      "Total no. of records: 1048575\n"
     ]
    }
   ],
   "source": [
    "#cat_url = open(r\"D:\\data\\College\\Capstone\\datasets\\url_classification.csv\")\n",
    "cat_df = pd.read_csv(r\"D:\\data\\College\\Capstone\\datasets\\url_classification.csv\")\n",
    "print(f'No. of categories: {len(set(cat_df.Category))}')\n",
    "print(f'Categories are : {set(cat_df.Category)}')\n",
    "print(f'Total no. of records: {len(cat_df)}')"
   ]
  },
  {
   "cell_type": "code",
   "execution_count": 21,
   "id": "8cd7fb3e",
   "metadata": {},
   "outputs": [
    {
     "name": "stdout",
     "output_type": "stream",
     "text": [
      "http://www.liquidgeneration.com/\n",
      "http://www.onlineanime.org/\n",
      "http://www.ceres.dti.ne.jp/~nekoi/senno/senfirst.html\n",
      "http://www.galeon.com/kmh/\n",
      "http://www.fanworkrecs.com/\n"
     ]
    }
   ],
   "source": [
    "for i in df.head().values:\n",
    "    print(i[1])"
   ]
  },
  {
   "cell_type": "code",
   "execution_count": 22,
   "id": "f130cbe4",
   "metadata": {},
   "outputs": [
    {
     "name": "stdout",
     "output_type": "stream",
     "text": [
      "liquidgeneration.com/\n",
      "onlineanime.org/\n",
      "ceres.dti.ne.jp/~nekoi/senno/senfirst.html\n",
      "galeon.com/kmh/\n",
      "fanworkrecs.com/\n",
      "animehouse.com/\n",
      ".117.ne.jp/~mb1996ax/enadc.html\n",
      "ive.rhps.org/fritters/yui/index.html\n",
      "freecartoonsex.com/\n",
      "cutepet.org/\n",
      "taremeparadise.com/\n",
      "internetdump.com/users/pornographite/index1.html\n",
      "kaminari.net\n",
      "iei.net/~bkos1/velneko.htm\n",
      ".kinghost.com/fetish/hentaibee/\n",
      "jasonmeador.com/\n",
      "geocities.com/kaseychan17/index.html\n",
      "angelfire.com/journal/coldlemonade/index.html\n",
      "bring.com/hub?sid=&amp;ring=hentff98&amp;id=&amp;list\n",
      "nemurokinenkan.net\n",
      "aven.tripod.com/library.htm\n",
      "angelfire.com/poetry/nicolesstories/\n",
      "heeparecoming.tripod.com/papercrane/\n",
      "geocities.com/eddie_monsoon2002/\n",
      "shokushu.com/\n",
      "geocities.com/timessquare/arcade/7810/p_hgames.htm\n",
      "hentaisocialclub.com/ganguro/index.html\n",
      "amasaki.netfirms.com/\n",
      "ers.tripod.com/~chaz16/3.html\n",
      "hentai-comics.com/\n"
     ]
    }
   ],
   "source": [
    "for i in df.head(30).values:\n",
    "    print(i[1][11:])"
   ]
  },
  {
   "cell_type": "code",
   "execution_count": 23,
   "id": "2a915a7f",
   "metadata": {},
   "outputs": [],
   "source": [
    "cat_url.close()"
   ]
  },
  {
   "cell_type": "code",
   "execution_count": null,
   "id": "8958e39d",
   "metadata": {},
   "outputs": [],
   "source": []
  }
 ],
 "metadata": {
  "kernelspec": {
   "display_name": "Python 3 (ipykernel)",
   "language": "python",
   "name": "python3"
  },
  "language_info": {
   "codemirror_mode": {
    "name": "ipython",
    "version": 3
   },
   "file_extension": ".py",
   "mimetype": "text/x-python",
   "name": "python",
   "nbconvert_exporter": "python",
   "pygments_lexer": "ipython3",
   "version": "3.9.7"
  }
 },
 "nbformat": 4,
 "nbformat_minor": 5
}
