{
 "cells": [
  {
   "cell_type": "code",
   "execution_count": 45,
   "id": "998cc633",
   "metadata": {},
   "outputs": [],
   "source": [
    "import csv\n",
    "import socket\n",
    "import pandas as pd\n",
    "import socket\n",
    "import re"
   ]
  },
  {
   "cell_type": "code",
   "execution_count": 46,
   "id": "a596cf1b",
   "metadata": {},
   "outputs": [
    {
     "name": "stdout",
     "output_type": "stream",
     "text": [
      "No. of categories: 12\n",
      "Categories are : {'Recreation', 'Health', 'News', 'Computers', 'Games', 'Kids', 'Home', 'Business', 'Reference', 'Adult', 'Science', 'Arts'}\n",
      "Total no. of records: 1048575\n"
     ]
    }
   ],
   "source": [
    "#cat_url = open(r\"..\\datasets\\url_classification.csv\")\n",
    "cat_df = pd.read_csv(r\"..\\datasets\\url_classification.csv\")\n",
    "print(f'No. of categories: {len(set(cat_df.Category))}')\n",
    "print(f'Categories are : {set(cat_df.Category)}')\n",
    "print(f'Total no. of records: {len(cat_df)}')"
   ]
  },
  {
   "cell_type": "code",
   "execution_count": 47,
   "id": "8cd7fb3e",
   "metadata": {},
   "outputs": [
    {
     "name": "stdout",
     "output_type": "stream",
     "text": [
      "http://www.liquidgeneration.com/\n",
      "http://www.onlineanime.org/\n",
      "http://www.ceres.dti.ne.jp/~nekoi/senno/senfirst.html\n",
      "http://www.galeon.com/kmh/\n",
      "http://www.fanworkrecs.com/\n"
     ]
    }
   ],
   "source": [
    "for i in cat_df.head().values:\n",
    "    print(i[1])"
   ]
  },
  {
   "cell_type": "code",
   "execution_count": 48,
   "id": "f130cbe4",
   "metadata": {},
   "outputs": [
    {
     "name": "stdout",
     "output_type": "stream",
     "text": [
      "liquidgeneration.com/\n",
      "onlineanime.org/\n",
      "ceres.dti.ne.jp/~nekoi/senno/senfirst.html\n",
      "galeon.com/kmh/\n",
      "fanworkrecs.com/\n",
      "animehouse.com/\n",
      ".117.ne.jp/~mb1996ax/enadc.html\n",
      "ive.rhps.org/fritters/yui/index.html\n",
      "freecartoonsex.com/\n",
      "cutepet.org/\n",
      "taremeparadise.com/\n",
      "internetdump.com/users/pornographite/index1.html\n",
      "kaminari.net\n",
      "iei.net/~bkos1/velneko.htm\n",
      ".kinghost.com/fetish/hentaibee/\n",
      "jasonmeador.com/\n",
      "geocities.com/kaseychan17/index.html\n",
      "angelfire.com/journal/coldlemonade/index.html\n",
      "bring.com/hub?sid=&amp;ring=hentff98&amp;id=&amp;list\n",
      "nemurokinenkan.net\n",
      "aven.tripod.com/library.htm\n",
      "angelfire.com/poetry/nicolesstories/\n",
      "heeparecoming.tripod.com/papercrane/\n",
      "geocities.com/eddie_monsoon2002/\n",
      "shokushu.com/\n",
      "geocities.com/timessquare/arcade/7810/p_hgames.htm\n",
      "hentaisocialclub.com/ganguro/index.html\n",
      "amasaki.netfirms.com/\n",
      "ers.tripod.com/~chaz16/3.html\n",
      "hentai-comics.com/\n"
     ]
    }
   ],
   "source": [
    "for i in cat_df.head(30).values:\n",
    "    print(i[1][11:])"
   ]
  },
  {
   "cell_type": "code",
   "execution_count": 49,
   "id": "2477ea50",
   "metadata": {
    "scrolled": true
   },
   "outputs": [
    {
     "name": "stdout",
     "output_type": "stream",
     "text": [
      "wikipedia.org\n",
      "IP Address is :103.102.166.224\n"
     ]
    }
   ],
   "source": [
    "#s=\"http://www.google.com/\"\n",
    "s=\"wikipedia.org\"\n",
    "print(s[:])\n",
    "IPAddr = socket.gethostbyname(s[:])\n",
    "print(\"IP Address is :\" + IPAddr)"
   ]
  },
  {
   "cell_type": "code",
   "execution_count": 52,
   "id": "82cf84f6",
   "metadata": {},
   "outputs": [
    {
     "name": "stdout",
     "output_type": "stream",
     "text": [
      "\n",
      " liquidgeneration.com\n",
      "99.84.160.80\n",
      "\n",
      " onlineanime.org\n",
      "\n",
      " ceres.dti.ne.jp\n",
      "\n",
      " galeon.com\n",
      "172.67.220.28\n",
      "\n",
      " fanworkrecs.com\n",
      "15.197.142.173\n",
      "\n",
      " animehouse.com\n",
      "23.227.38.65\n",
      "\n",
      " freecartoonsex.com\n",
      "104.143.9.110\n",
      "\n",
      " cutepet.org\n",
      "23.105.163.248\n",
      "\n",
      " taremeparadise.com\n",
      "\n",
      " internetdump.com\n",
      "168.235.70.156\n",
      "\n",
      " iei.net\n",
      "\n",
      " jasonmeador.com\n",
      "216.239.38.21\n",
      "\n",
      " geocities.com\n",
      "74.6.136.150\n",
      "\n",
      " angelfire.com\n",
      "209.202.252.105\n",
      "\n",
      " nemurokinenkan.net\n",
      "\n",
      " angelfire.com\n",
      "209.202.252.105\n",
      "\n",
      " geocities.com\n",
      "74.6.136.150\n",
      "\n",
      " shokushu.com\n",
      "174.142.20.236\n",
      "\n",
      " geocities.com\n",
      "74.6.136.150\n",
      "\n",
      " hentaisocialclub.com\n",
      "67.227.226.241\n",
      "\n",
      " hentai-comics.com\n",
      "13.248.216.40\n",
      "16 0\n"
     ]
    }
   ],
   "source": [
    "count_try=0\n",
    "count_except=0\n",
    "count_skip=0\n",
    "\n",
    "for i in cat_df.head(30).values:\n",
    "    try:\n",
    "        regex1 = r\"www\\.\"\n",
    "        string_url = re.split(regex1,i[1])\n",
    "        regex2 = r\"\\/\"\n",
    "        url = re.split(regex2, string_url[1])\n",
    "        print(\"\\n\", url[0])\n",
    "        print(socket.gethostbyname(url[0]))\n",
    "        count_try+=1\n",
    "    except:\n",
    "        continue\n",
    "\n",
    "print(count_try,count_skip)"
   ]
  },
  {
   "cell_type": "code",
   "execution_count": 61,
   "id": "7de2c78d",
   "metadata": {},
   "outputs": [],
   "source": [
    "header = ['Number', 'URL', 'IP']\n",
    "data = [1, 'joe.com', '74.5.136.150']\n",
    "\n",
    "with open(r\"..\\datasets\\convert.csv\", \"w\", newline='') as csv_writer:\n",
    "    writer = csv.writer(csv_writer)\n",
    "    writer.writerow(header)\n",
    "    writer.writerow(data)"
   ]
  }
 ],
 "metadata": {
  "kernelspec": {
   "display_name": "Python 3 (ipykernel)",
   "language": "python",
   "name": "python3"
  },
  "language_info": {
   "codemirror_mode": {
    "name": "ipython",
    "version": 3
   },
   "file_extension": ".py",
   "mimetype": "text/x-python",
   "name": "python",
   "nbconvert_exporter": "python",
   "pygments_lexer": "ipython3",
   "version": "3.9.7"
  }
 },
 "nbformat": 4,
 "nbformat_minor": 5
}
