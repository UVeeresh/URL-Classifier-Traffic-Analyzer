{
  "nbformat": 4,
  "nbformat_minor": 0,
  "metadata": {
    "colab": {
      "provenance": []
    },
    "kernelspec": {
      "name": "python3",
      "display_name": "Python 3"
    },
    "language_info": {
      "name": "python"
    }
  },
  "cells": [
    {
      "cell_type": "code",
      "source": [
        "!pip install -U -q PyDrive\n",
        "from pydrive.auth import GoogleAuth\n",
        "from pydrive.drive import GoogleDrive\n",
        "from google.colab import auth\n",
        "import pandas as pd\n",
        "from oauth2client.client import GoogleCredentials\n",
        "from pandas import read_csv\n",
        "from sklearn.model_selection import train_test_split\n",
        "from sklearn.linear_model import LogisticRegression\n",
        "from sklearn.feature_extraction.text import TfidfVectorizer"
      ],
      "metadata": {
        "id": "YBLlRVFW_RXi"
      },
      "execution_count": null,
      "outputs": []
    },
    {
      "cell_type": "code",
      "source": [
        "auth.authenticate_user()\n",
        "gauth = GoogleAuth()\n",
        "gauth.credentials = GoogleCredentials.get_application_default()\n",
        "drive = GoogleDrive(gauth)\n",
        "#https://drive.google.com/file/d/1r0EIuQSSoUmPtwEuKjrVDLbxMq9gSRtO/view?usp=sharing\n",
        "fileDownloaded = drive.CreateFile({'id': '1r0EIuQSSoUmPtwEuKjrVDLbxMq9gSRtO'})"
      ],
      "metadata": {
        "id": "lHyfX3ujtUnt"
      },
      "execution_count": null,
      "outputs": []
    },
    {
      "cell_type": "code",
      "source": [
        "fileDownloaded.GetContentFile(\"mal_legit_classification.csv\")\n",
        "urls_data = pd.read_csv(\"mal_legit_classification.csv\")\n",
        "type(urls_data)\n",
        "urls_data.head()\n"
      ],
      "metadata": {
        "colab": {
          "base_uri": "https://localhost:8080/",
          "height": 206
        },
        "id": "pbTHsT-sVAFJ",
        "outputId": "dffe4b79-cacc-479c-b86f-448fa734f84f"
      },
      "execution_count": null,
      "outputs": [
        {
          "output_type": "execute_result",
          "data": {
            "text/plain": [
              "                      url label\n",
              "0  diaryofagameaddict.com   bad\n",
              "1        espdesign.com.au   bad\n",
              "2      iamagameaddict.com   bad\n",
              "3           kalantzis.net   bad\n",
              "4   slightlyoffcenter.net   bad"
            ],
            "text/html": [
              "\n",
              "  <div id=\"df-7b8aa48c-e234-4d1c-bf92-0dc697d498c4\">\n",
              "    <div class=\"colab-df-container\">\n",
              "      <div>\n",
              "<style scoped>\n",
              "    .dataframe tbody tr th:only-of-type {\n",
              "        vertical-align: middle;\n",
              "    }\n",
              "\n",
              "    .dataframe tbody tr th {\n",
              "        vertical-align: top;\n",
              "    }\n",
              "\n",
              "    .dataframe thead th {\n",
              "        text-align: right;\n",
              "    }\n",
              "</style>\n",
              "<table border=\"1\" class=\"dataframe\">\n",
              "  <thead>\n",
              "    <tr style=\"text-align: right;\">\n",
              "      <th></th>\n",
              "      <th>url</th>\n",
              "      <th>label</th>\n",
              "    </tr>\n",
              "  </thead>\n",
              "  <tbody>\n",
              "    <tr>\n",
              "      <th>0</th>\n",
              "      <td>diaryofagameaddict.com</td>\n",
              "      <td>bad</td>\n",
              "    </tr>\n",
              "    <tr>\n",
              "      <th>1</th>\n",
              "      <td>espdesign.com.au</td>\n",
              "      <td>bad</td>\n",
              "    </tr>\n",
              "    <tr>\n",
              "      <th>2</th>\n",
              "      <td>iamagameaddict.com</td>\n",
              "      <td>bad</td>\n",
              "    </tr>\n",
              "    <tr>\n",
              "      <th>3</th>\n",
              "      <td>kalantzis.net</td>\n",
              "      <td>bad</td>\n",
              "    </tr>\n",
              "    <tr>\n",
              "      <th>4</th>\n",
              "      <td>slightlyoffcenter.net</td>\n",
              "      <td>bad</td>\n",
              "    </tr>\n",
              "  </tbody>\n",
              "</table>\n",
              "</div>\n",
              "      <button class=\"colab-df-convert\" onclick=\"convertToInteractive('df-7b8aa48c-e234-4d1c-bf92-0dc697d498c4')\"\n",
              "              title=\"Convert this dataframe to an interactive table.\"\n",
              "              style=\"display:none;\">\n",
              "        \n",
              "  <svg xmlns=\"http://www.w3.org/2000/svg\" height=\"24px\"viewBox=\"0 0 24 24\"\n",
              "       width=\"24px\">\n",
              "    <path d=\"M0 0h24v24H0V0z\" fill=\"none\"/>\n",
              "    <path d=\"M18.56 5.44l.94 2.06.94-2.06 2.06-.94-2.06-.94-.94-2.06-.94 2.06-2.06.94zm-11 1L8.5 8.5l.94-2.06 2.06-.94-2.06-.94L8.5 2.5l-.94 2.06-2.06.94zm10 10l.94 2.06.94-2.06 2.06-.94-2.06-.94-.94-2.06-.94 2.06-2.06.94z\"/><path d=\"M17.41 7.96l-1.37-1.37c-.4-.4-.92-.59-1.43-.59-.52 0-1.04.2-1.43.59L10.3 9.45l-7.72 7.72c-.78.78-.78 2.05 0 2.83L4 21.41c.39.39.9.59 1.41.59.51 0 1.02-.2 1.41-.59l7.78-7.78 2.81-2.81c.8-.78.8-2.07 0-2.86zM5.41 20L4 18.59l7.72-7.72 1.47 1.35L5.41 20z\"/>\n",
              "  </svg>\n",
              "      </button>\n",
              "      \n",
              "  <style>\n",
              "    .colab-df-container {\n",
              "      display:flex;\n",
              "      flex-wrap:wrap;\n",
              "      gap: 12px;\n",
              "    }\n",
              "\n",
              "    .colab-df-convert {\n",
              "      background-color: #E8F0FE;\n",
              "      border: none;\n",
              "      border-radius: 50%;\n",
              "      cursor: pointer;\n",
              "      display: none;\n",
              "      fill: #1967D2;\n",
              "      height: 32px;\n",
              "      padding: 0 0 0 0;\n",
              "      width: 32px;\n",
              "    }\n",
              "\n",
              "    .colab-df-convert:hover {\n",
              "      background-color: #E2EBFA;\n",
              "      box-shadow: 0px 1px 2px rgba(60, 64, 67, 0.3), 0px 1px 3px 1px rgba(60, 64, 67, 0.15);\n",
              "      fill: #174EA6;\n",
              "    }\n",
              "\n",
              "    [theme=dark] .colab-df-convert {\n",
              "      background-color: #3B4455;\n",
              "      fill: #D2E3FC;\n",
              "    }\n",
              "\n",
              "    [theme=dark] .colab-df-convert:hover {\n",
              "      background-color: #434B5C;\n",
              "      box-shadow: 0px 1px 3px 1px rgba(0, 0, 0, 0.15);\n",
              "      filter: drop-shadow(0px 1px 2px rgba(0, 0, 0, 0.3));\n",
              "      fill: #FFFFFF;\n",
              "    }\n",
              "  </style>\n",
              "\n",
              "      <script>\n",
              "        const buttonEl =\n",
              "          document.querySelector('#df-7b8aa48c-e234-4d1c-bf92-0dc697d498c4 button.colab-df-convert');\n",
              "        buttonEl.style.display =\n",
              "          google.colab.kernel.accessAllowed ? 'block' : 'none';\n",
              "\n",
              "        async function convertToInteractive(key) {\n",
              "          const element = document.querySelector('#df-7b8aa48c-e234-4d1c-bf92-0dc697d498c4');\n",
              "          const dataTable =\n",
              "            await google.colab.kernel.invokeFunction('convertToInteractive',\n",
              "                                                     [key], {});\n",
              "          if (!dataTable) return;\n",
              "\n",
              "          const docLinkHtml = 'Like what you see? Visit the ' +\n",
              "            '<a target=\"_blank\" href=https://colab.research.google.com/notebooks/data_table.ipynb>data table notebook</a>'\n",
              "            + ' to learn more about interactive tables.';\n",
              "          element.innerHTML = '';\n",
              "          dataTable['output_type'] = 'display_data';\n",
              "          await google.colab.output.renderOutput(dataTable, element);\n",
              "          const docLink = document.createElement('div');\n",
              "          docLink.innerHTML = docLinkHtml;\n",
              "          element.appendChild(docLink);\n",
              "        }\n",
              "      </script>\n",
              "    </div>\n",
              "  </div>\n",
              "  "
            ]
          },
          "metadata": {},
          "execution_count": 3
        }
      ]
    },
    {
      "cell_type": "code",
      "source": [
        "def modifiedTokenizer(f):\n",
        "    tokensBySlash = str(f.encode('utf-8')).split('/')\n",
        "    totalTokens = []\n",
        "    for i in tokensBySlash:\n",
        "        tokens = str(i).split('-')\n",
        "        tokensByDot = []\n",
        "        for j in range(0,len(tokens)):\n",
        "            tokensTemp = str(tokens[j]).split('.')\n",
        "            tokensByDot = tokensByDot + tokensTemp\n",
        "        totalTokens = totalTokens + tokens + tokensByDot\n",
        "    totalTokens = list(set(totalTokens))\n",
        "    if 'com' in totalTokens:\n",
        "        totalTokens.remove('com')\n",
        "    return totalTokens"
      ],
      "metadata": {
        "id": "Ny3GkyzzsTWW"
      },
      "execution_count": null,
      "outputs": []
    },
    {
      "cell_type": "code",
      "source": [
        "y = urls_data[\"label\"]\n",
        "url_list = urls_data[\"url\"]\n",
        "vectorizer = TfidfVectorizer(tokenizer=modifiedTokenizer)\n",
        "X = vectorizer.fit_transform(url_list)\n",
        "print(X)"
      ],
      "metadata": {
        "id": "zfaeEJGtxnjv",
        "colab": {
          "base_uri": "https://localhost:8080/"
        },
        "outputId": "28ff9485-1a35-40b3-de39-ea0974de7580"
      },
      "execution_count": null,
      "outputs": [
        {
          "output_type": "stream",
          "name": "stdout",
          "text": [
            "  (0, 189966)\t0.6692304935922834\n",
            "  (0, 189967)\t0.6692304935922834\n",
            "  (0, 421327)\t0.3228948635275226\n",
            "  (1, 201615)\t0.6188117984272429\n",
            "  (1, 201616)\t0.6188117984272429\n",
            "  (1, 123449)\t0.4838841971530818\n",
            "  (2, 232080)\t0.6692304935922834\n",
            "  (2, 232081)\t0.6692304935922834\n",
            "  (2, 421327)\t0.3228948635275226\n",
            "  (3, 246138)\t0.6416473265057543\n",
            "  (3, 570231)\t0.4202111573673834\n",
            "  (3, 246139)\t0.6416473265057543\n",
            "  (4, 329331)\t0.6416473265057543\n",
            "  (4, 329332)\t0.6416473265057543\n",
            "  (4, 570231)\t0.4202111573673834\n",
            "  (5, 351083)\t0.6692304935922834\n",
            "  (5, 351082)\t0.6692304935922834\n",
            "  (5, 421327)\t0.3228948635275226\n",
            "  (6, 355332)\t0.6692304935922834\n",
            "  (6, 355333)\t0.6692304935922834\n",
            "  (6, 421327)\t0.3228948635275226\n",
            "  (7, 489343)\t0.5511086852728356\n",
            "  (7, 237555)\t0.5566321579392742\n",
            "  (7, 237557)\t0.6216428699540543\n",
            "  (8, 676458)\t0.36945947691836917\n",
            "  :\t:\n",
            "  (420459, 128074)\t0.5319049549741209\n",
            "  (420459, 33491)\t0.4097413825786242\n",
            "  (420459, 40963)\t0.41592678541933176\n",
            "  (420459, 42403)\t0.41941817721214536\n",
            "  (420459, 128070)\t0.43755439348761516\n",
            "  (420459, 1626)\t0.09396048537020021\n",
            "  (420460, 414136)\t0.62721627997457\n",
            "  (420460, 414134)\t0.5679408464978891\n",
            "  (420460, 142380)\t0.4960291340448751\n",
            "  (420460, 583797)\t0.16038087683404462\n",
            "  (420460, 1626)\t0.11079713687075789\n",
            "  (420461, 498555)\t0.6061140184643864\n",
            "  (420461, 498556)\t0.6061140184643864\n",
            "  (420461, 142380)\t0.4793405740736491\n",
            "  (420461, 583797)\t0.15498497224381017\n",
            "  (420461, 1626)\t0.10706944320036857\n",
            "  (420462, 686384)\t0.6061140184643864\n",
            "  (420462, 686385)\t0.6061140184643864\n",
            "  (420462, 142380)\t0.4793405740736491\n",
            "  (420462, 583797)\t0.15498497224381017\n",
            "  (420462, 1626)\t0.10706944320036857\n",
            "  (420463, 643294)\t0.6540508042589379\n",
            "  (420463, 643150)\t0.30351138329630595\n",
            "  (420463, 142380)\t0.5172510096056001\n",
            "  (420463, 509119)\t0.46103121230539995\n"
          ]
        }
      ]
    },
    {
      "cell_type": "code",
      "source": [
        "X_train, X_test, y_train, y_test = train_test_split(X, y, test_size=0.3, random_state=42)\t\n",
        "print(X_train)"
      ],
      "metadata": {
        "id": "bz6il3Dsx4_J",
        "colab": {
          "base_uri": "https://localhost:8080/"
        },
        "outputId": "25798bce-d292-4378-c4f7-9d7b2a777874"
      },
      "execution_count": null,
      "outputs": [
        {
          "output_type": "stream",
          "name": "stdout",
          "text": [
            "  (0, 213705)\t0.7016542094489259\n",
            "  (0, 213706)\t0.7016542094489259\n",
            "  (0, 1626)\t0.12394652365115272\n",
            "  (1, 649337)\t0.47412275012789395\n",
            "  (1, 202416)\t0.4485489016969775\n",
            "  (1, 202415)\t0.4428614716215346\n",
            "  (1, 689773)\t0.33478464709818273\n",
            "  (1, 114938)\t0.3824414625039318\n",
            "  (1, 578657)\t0.29093138291019494\n",
            "  (1, 419576)\t0.18682054441085238\n",
            "  (2, 622869)\t0.43781699700474574\n",
            "  (2, 622870)\t0.43781699700474574\n",
            "  (2, 421362)\t0.42442533084535256\n",
            "  (2, 182920)\t0.3423540511574834\n",
            "  (2, 182921)\t0.3423540511574834\n",
            "  (2, 474584)\t0.25864222188173996\n",
            "  (2, 454090)\t0.25297402525938417\n",
            "  (2, 37845)\t0.17750552478720347\n",
            "  (2, 401165)\t0.15053700681691853\n",
            "  (2, 492984)\t0.13046778134538942\n",
            "  (3, 379620)\t0.4930369965960516\n",
            "  (3, 139061)\t0.32120045596635033\n",
            "  (3, 554239)\t0.4331762339317665\n",
            "  (3, 631330)\t0.33749156728516144\n",
            "  (3, 402735)\t0.24217937323706704\n",
            "  :\t:\n",
            "  (294318, 578632)\t0.3046548924250475\n",
            "  (294318, 563286)\t0.27180102031967435\n",
            "  (294319, 230484)\t0.43808841727102726\n",
            "  (294319, 230483)\t0.43808841727102726\n",
            "  (294319, 427865)\t0.45400852197122893\n",
            "  (294319, 614936)\t0.5184283091358977\n",
            "  (294319, 460567)\t0.3758529334326485\n",
            "  (294320, 366434)\t0.7016542094489259\n",
            "  (294320, 366433)\t0.7016542094489259\n",
            "  (294320, 1626)\t0.12394652365115272\n",
            "  (294321, 300466)\t0.49241725625460464\n",
            "  (294321, 105863)\t0.5195861223339546\n",
            "  (294321, 300452)\t0.35688035008758745\n",
            "  (294321, 675447)\t0.4652483901752546\n",
            "  (294321, 473163)\t0.37912512232948503\n",
            "  (294322, 335097)\t0.7016542094489259\n",
            "  (294322, 335096)\t0.7016542094489259\n",
            "  (294322, 1626)\t0.12394652365115272\n",
            "  (294323, 278546)\t0.33821078352919887\n",
            "  (294323, 278485)\t0.3243911971970096\n",
            "  (294323, 678742)\t0.4377543914106398\n",
            "  (294323, 676229)\t0.4974770725713994\n",
            "  (294323, 461526)\t0.5126388626131596\n",
            "  (294323, 715640)\t0.25646802624963344\n",
            "  (294323, 1626)\t0.11268105520650135\n"
          ]
        }
      ]
    },
    {
      "cell_type": "code",
      "source": [
        "logit = LogisticRegression(solver='lbfgs', max_iter=500)\t\n",
        "logit.fit(X_train, y_train)"
      ],
      "metadata": {
        "colab": {
          "base_uri": "https://localhost:8080/"
        },
        "id": "syyxcn3Jx8v1",
        "outputId": "0935025b-3622-405d-b676-5fb68c5ff85d"
      },
      "execution_count": null,
      "outputs": [
        {
          "output_type": "execute_result",
          "data": {
            "text/plain": [
              "LogisticRegression(max_iter=500)"
            ]
          },
          "metadata": {},
          "execution_count": 7
        }
      ]
    },
    {
      "cell_type": "code",
      "source": [
        "print(\"Accuracy \",logit.score(X_test, y_test))"
      ],
      "metadata": {
        "colab": {
          "base_uri": "https://localhost:8080/"
        },
        "id": "eK2UhslayJef",
        "outputId": "f0d85f3c-d2b4-4ad4-8d0e-9047119e4281"
      },
      "execution_count": null,
      "outputs": [
        {
          "output_type": "stream",
          "name": "stdout",
          "text": [
            "Accuracy  0.9589186618043444\n"
          ]
        }
      ]
    },
    {
      "cell_type": "code",
      "source": [
        "X_predict = [\"google.com/search=jcharistech\",\n",
        "\"www.buyfakebillsonlinee.blogspot.com\", \n",
        "\"www.unitedairlineslogistics.com\",\n",
        "\"www.stonehousedelivery.com\",\n",
        "\"www.silkroadmeds-onlinepharmacy.com\", \n",
        "\"www.radsport-voggel.de/wp-admin/includes/log.exe\", \n",
        "\"ahrenhei.without-transfer.ru/nethost.exe \",\n",
        "\"www.itidea.it/centroesteticosothys/img/_notes/gum.exe\"]"
      ],
      "metadata": {
        "id": "t1Mn37Ay45Xj"
      },
      "execution_count": null,
      "outputs": []
    },
    {
      "cell_type": "code",
      "source": [
        "X_predict = vectorizer.transform(X_predict)\n",
        "New_predict = logit.predict(X_predict)\n",
        "print(New_predict)"
      ],
      "metadata": {
        "colab": {
          "base_uri": "https://localhost:8080/"
        },
        "id": "wLjoaaMl5B4-",
        "outputId": "2d6017a7-e678-4882-e989-58e3f738196a"
      },
      "execution_count": null,
      "outputs": [
        {
          "output_type": "stream",
          "name": "stdout",
          "text": [
            "['good' 'bad' 'bad' 'bad' 'bad' 'bad' 'bad' 'bad']\n"
          ]
        }
      ]
    }
  ]
}